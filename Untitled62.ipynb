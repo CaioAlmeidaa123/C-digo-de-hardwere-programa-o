{
  "nbformat": 4,
  "nbformat_minor": 0,
  "metadata": {
    "colab": {
      "provenance": [],
      "authorship_tag": "ABX9TyPRjiVA4W2gxiwxuwdDZkbE",
      "include_colab_link": true
    },
    "kernelspec": {
      "name": "python3",
      "display_name": "Python 3"
    },
    "language_info": {
      "name": "python"
    }
  },
  "cells": [
    {
      "cell_type": "markdown",
      "metadata": {
        "id": "view-in-github",
        "colab_type": "text"
      },
      "source": [
        "<a href=\"https://colab.research.google.com/github/CaioAlmeidaa123/C-digo-de-hardwere-programa-o/blob/main/Untitled62.ipynb\" target=\"_parent\"><img src=\"https://colab.research.google.com/assets/colab-badge.svg\" alt=\"Open In Colab\"/></a>"
      ]
    },
    {
      "cell_type": "code",
      "execution_count": null,
      "metadata": {
        "id": "GEKcK3UPGwQH"
      },
      "outputs": [],
      "source": [
        "import os\n",
        "\n",
        "# Aqui você vai escolher as duas pastas\n",
        "pasta_principal = \"Cadastros do SEI\"\n",
        "pasta_secundaria = \"Cadastros a serem verificados\"\n",
        "\n",
        "def listar_nomes(pasta):\n",
        "    if os.path.exists(pasta):  # Isso serve para ver se existe uma pasta\n",
        "        return {os.path.splitext(arquivo)[0] for arquivo in os.listdir(pasta)}\n",
        "    else:\n",
        "        print(f\"Erro: A pasta '{pasta}' não existe.\")\n",
        "        return set()\n",
        "\n",
        "def comparar_nomes():\n",
        "    \"\"\"Compara os nomes dos arquivos nas pastas e exibe as correspondências e diferenças.\"\"\"\n",
        "    nomes_principal = listar_nomes(pasta_principal)\n",
        "    nomes_secundaria = listar_nomes(pasta_secundaria)\n",
        "\n",
        "    comuns = nomes_secundaria.intersection(nomes_principal)  # Colocar o nome das pastas\n",
        "    exclusivos_secundaria = nomes_secundaria.difference(nomes_principal)  # Colocar o nome das pastas\n",
        "\n",
        "    print(\"\\n✅ Nomes que estão em ambas as pastas:\")\n",
        "    for nome in comuns:\n",
        "        print(f\"  - {nome}\")\n",
        "\n",
        "    print(\"\\n❌ Nomes que estão apenas na pasta secundária:\")\n",
        "    for nome in exclusivos_secundaria:\n",
        "        print(f\"  - {nome}\")\n",
        "\n",
        "comparar_nomes()"
      ]
    }
  ]
}